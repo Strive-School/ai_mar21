{
 "cells": [
  {
   "cell_type": "code",
   "execution_count": 1,
   "id": "complimentary-handbook",
   "metadata": {
    "slideshow": {
     "slide_type": "slide"
    }
   },
   "outputs": [],
   "source": [
    "# Import the needed libraries\n",
    "import numpy as np"
   ]
  },
  {
   "cell_type": "markdown",
   "id": "pacific-kentucky",
   "metadata": {},
   "source": [
    "**72. How to swap two rows of an array?** "
   ]
  },
  {
   "cell_type": "code",
   "execution_count": 3,
   "id": "proper-reservoir",
   "metadata": {},
   "outputs": [
    {
     "data": {
      "text/plain": [
       "array([[1, 2, 3],\n",
       "       [4, 5, 6]])"
      ]
     },
     "execution_count": 3,
     "metadata": {},
     "output_type": "execute_result"
    }
   ],
   "source": [
    "array = np.array([[1,2,3],[4,5,6]])\n",
    "array"
   ]
  },
  {
   "cell_type": "code",
   "execution_count": 4,
   "id": "endless-billy",
   "metadata": {},
   "outputs": [],
   "source": [
    "array[[0,1]] = array[[1, 0]]"
   ]
  },
  {
   "cell_type": "code",
   "execution_count": 5,
   "id": "taken-speaking",
   "metadata": {},
   "outputs": [
    {
     "data": {
      "text/plain": [
       "array([[4, 5, 6],\n",
       "       [1, 2, 3]])"
      ]
     },
     "execution_count": 5,
     "metadata": {},
     "output_type": "execute_result"
    }
   ],
   "source": [
    "array"
   ]
  },
  {
   "cell_type": "markdown",
   "id": "outer-encoding",
   "metadata": {},
   "source": [
    "**75. How to compute averages using a sliding window over an array?**"
   ]
  },
  {
   "cell_type": "markdown",
   "id": "accredited-damage",
   "metadata": {},
   "source": [
    "If you interpreted it as a way to compute the average of the whole list than the solution is:"
   ]
  },
  {
   "cell_type": "code",
   "execution_count": 6,
   "id": "imperial-planner",
   "metadata": {},
   "outputs": [],
   "source": [
    "array = np.array([1,2,3,4,5,6,7,8,9,10])"
   ]
  },
  {
   "cell_type": "code",
   "execution_count": 8,
   "id": "professional-audience",
   "metadata": {},
   "outputs": [
    {
     "data": {
      "text/plain": [
       "5.5"
      ]
     },
     "execution_count": 8,
     "metadata": {},
     "output_type": "execute_result"
    }
   ],
   "source": [
    "(np.cumsum(array)/len(array))[-1]"
   ]
  },
  {
   "cell_type": "markdown",
   "id": "reserved-convertible",
   "metadata": {},
   "source": [
    "Instead, implementing a moving average:"
   ]
  },
  {
   "cell_type": "code",
   "execution_count": 17,
   "id": "infinite-firewall",
   "metadata": {},
   "outputs": [],
   "source": [
    "def moving_average(a, window_size=3):\n",
    "    sums = np.cumsum(a)\n",
    "    sums[window_size:] = sums[window_size:] - sums[:-window_size]\n",
    "    return sums[window_size-1:]/window_size"
   ]
  },
  {
   "cell_type": "code",
   "execution_count": 19,
   "id": "athletic-breakdown",
   "metadata": {},
   "outputs": [
    {
     "data": {
      "text/plain": [
       "array([2., 3., 4., 5., 6., 7., 8., 9.])"
      ]
     },
     "execution_count": 19,
     "metadata": {},
     "output_type": "execute_result"
    }
   ],
   "source": [
    "array = np.array([1,2,3,4,5,6,7,8,9,10])\n",
    "moving_average(array)"
   ]
  },
  {
   "cell_type": "code",
   "execution_count": null,
   "id": "magnetic-framing",
   "metadata": {},
   "outputs": [],
   "source": []
  }
 ],
 "metadata": {
  "kernelspec": {
   "display_name": "Python 3",
   "language": "python",
   "name": "python3"
  },
  "language_info": {
   "codemirror_mode": {
    "name": "ipython",
    "version": 3
   },
   "file_extension": ".py",
   "mimetype": "text/x-python",
   "name": "python",
   "nbconvert_exporter": "python",
   "pygments_lexer": "ipython3",
   "version": "3.9.1"
  }
 },
 "nbformat": 4,
 "nbformat_minor": 5
}
