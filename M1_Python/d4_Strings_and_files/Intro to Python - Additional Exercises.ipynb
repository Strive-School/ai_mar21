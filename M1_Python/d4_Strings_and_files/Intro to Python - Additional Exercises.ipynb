{
 "cells": [
  {
   "cell_type": "markdown",
   "metadata": {},
   "source": [
    "**Exercise 2.2 (optional):** Write code that classifies a given amount of money (which you store in a variable `amount`), specified in cents, as greater monetary units. Your code lists the monetary equivalent in dollars (100 ct), quarters (25 ct), dimes (10 ct), nickels (5 ct), and pennies (1 ct). Your program should report the maximum number of dollars that fit in the amount, then the maximum number of quarters that fit in the remainder after you subtract the dollars, then the maximum number of dimes that fit in the remainder after you subtract the dollars and quarters, and so on for nickels and pennies. The result is that you express the amount as the minimum number of coins needed.  \n",
    "\n",
    "**Can you do it again? Would you change anything from the last time you had to do this?**"
   ]
  },
  {
   "cell_type": "code",
   "execution_count": 35,
   "metadata": {},
   "outputs": [
    {
     "data": {
      "text/plain": [
       "17"
      ]
     },
     "execution_count": 35,
     "metadata": {},
     "output_type": "execute_result"
    }
   ],
   "source": [
    "# Your Code Here\n",
    "\n",
    "### a given amount in cents\n",
    "\n",
    "\n",
    "def get_least_coins(cents, want_purse=False):\n",
    "    purse = {\n",
    "        'dollars': 0,\n",
    "        'quarters': 0,\n",
    "        'dimes': 0,\n",
    "        'nickels': 0,\n",
    "        'pennies': 0,\n",
    "    }\n",
    "    purse[\"dollars\"] = cents // 100\n",
    "    total_cents = cents % 100\n",
    "\n",
    "    while total_cents !=0:\n",
    "        if total_cents-25 >= 0:\n",
    "            total_cents -= 25\n",
    "            purse['quarters'] += 1\n",
    "            continue\n",
    "        elif total_cents-10 >=0:\n",
    "            total_cents -=10\n",
    "            purse['dimes'] += 1\n",
    "            continue\n",
    "        elif total_cents-5 >=0:\n",
    "            total_cents -=5\n",
    "            purse['nickels'] += 1\n",
    "            continue\n",
    "        else:\n",
    "            purse['pennies'] = total_cents\n",
    "            total_cents = 0\n",
    "            \n",
    "    total_coins = sum(purse.values())       \n",
    "    if want_purse == True:\n",
    "        return (total_coins, purse)\n",
    "    else:\n",
    "        return total_coins\n",
    "\n",
    "### Just see the required total coins\n",
    "get_least_coins(1097)\n",
    "    \n",
    "    \n",
    "### See the purse also\n",
    "#get_least_coins(1402397, True)\n"
   ]
  },
  {
   "cell_type": "markdown",
   "metadata": {},
   "source": [
    "**Exercise (optional)**: The factorial of a positive integer is that integer, multiplied by all positive integers that are lower (excluding zero). You write the factorial as the number with an exclamation mark after it. E.g., the factorial of 5 is `5! = 5 * 4 * 3 * 2 * 1 = 120`. Write a function that calculates the factorial of its (integer) parameter. Test your function for different parameter values, but do not use very large numbers as factorials grow exponentially. Hint: to do this with a `while` loop, you need at least one more variable."
   ]
  },
  {
   "cell_type": "code",
   "execution_count": 14,
   "metadata": {},
   "outputs": [
    {
     "name": "stdout",
     "output_type": "stream",
     "text": [
      "120\n"
     ]
    }
   ],
   "source": [
    "# Factorial\n",
    "def factorial(number):                                \n",
    "    #Your Code Here\n",
    "    factors = [i for i in range(1, number+1)]\n",
    "    payload = 1\n",
    "    while len(factors) >1:\n",
    "        payload *= factors.pop()\n",
    "    return payload\n",
    "print(factorial(5))"
   ]
  },
  {
   "cell_type": "markdown",
   "metadata": {},
   "source": [
    "**Exercise 5.1 (optional):** Write a function that prints a multiplication table for digits 1 to 10. A multiplication table for the numbers 1 to `num = 3` looks as follows:\n",
    "\n",
    "`. |  1  2  3`<br>\n",
    "`------------`<br>\n",
    "`1 |  1  2  3`<br>\n",
    "`2 |  2  4  6`<br>\n",
    "`3 |  3  6  9`\n",
    "\n",
    "So the labels on the rows are multiplied by the labels on the columns, and the result is shown in the cell that is on that row/column combination. "
   ]
  },
  {
   "cell_type": "code",
   "execution_count": 43,
   "metadata": {},
   "outputs": [
    {
     "name": "stdout",
     "output_type": "stream",
     "text": [
      "  * |   1   2   3   4   5   6   7   8   9  10  11  12  13  14  15  16  17  18  19  20  21  22  23  24  25\n",
      "---------------------------------------------------------------------------------------------------------\n",
      "  1 |   1   2   3   4   5   6   7   8   9  10  11  12  13  14  15  16  17  18  19  20  21  22  23  24  25\n",
      "  2 |   2   4   6   8  10  12  14  16  18  20  22  24  26  28  30  32  34  36  38  40  42  44  46  48  50\n",
      "  3 |   3   6   9  12  15  18  21  24  27  30  33  36  39  42  45  48  51  54  57  60  63  66  69  72  75\n",
      "  4 |   4   8  12  16  20  24  28  32  36  40  44  48  52  56  60  64  68  72  76  80  84  88  92  96 100\n",
      "  5 |   5  10  15  20  25  30  35  40  45  50  55  60  65  70  75  80  85  90  95 100 105 110 115 120 125\n",
      "  6 |   6  12  18  24  30  36  42  48  54  60  66  72  78  84  90  96 102 108 114 120 126 132 138 144 150\n",
      "  7 |   7  14  21  28  35  42  49  56  63  70  77  84  91  98 105 112 119 126 133 140 147 154 161 168 175\n",
      "  8 |   8  16  24  32  40  48  56  64  72  80  88  96 104 112 120 128 136 144 152 160 168 176 184 192 200\n",
      "  9 |   9  18  27  36  45  54  63  72  81  90  99 108 117 126 135 144 153 162 171 180 189 198 207 216 225\n",
      " 10 |  10  20  30  40  50  60  70  80  90 100 110 120 130 140 150 160 170 180 190 200 210 220 230 240 250\n",
      " 11 |  11  22  33  44  55  66  77  88  99 110 121 132 143 154 165 176 187 198 209 220 231 242 253 264 275\n",
      " 12 |  12  24  36  48  60  72  84  96 108 120 132 144 156 168 180 192 204 216 228 240 252 264 276 288 300\n",
      " 13 |  13  26  39  52  65  78  91 104 117 130 143 156 169 182 195 208 221 234 247 260 273 286 299 312 325\n",
      " 14 |  14  28  42  56  70  84  98 112 126 140 154 168 182 196 210 224 238 252 266 280 294 308 322 336 350\n",
      " 15 |  15  30  45  60  75  90 105 120 135 150 165 180 195 210 225 240 255 270 285 300 315 330 345 360 375\n",
      " 16 |  16  32  48  64  80  96 112 128 144 160 176 192 208 224 240 256 272 288 304 320 336 352 368 384 400\n",
      " 17 |  17  34  51  68  85 102 119 136 153 170 187 204 221 238 255 272 289 306 323 340 357 374 391 408 425\n",
      " 18 |  18  36  54  72  90 108 126 144 162 180 198 216 234 252 270 288 306 324 342 360 378 396 414 432 450\n",
      " 19 |  19  38  57  76  95 114 133 152 171 190 209 228 247 266 285 304 323 342 361 380 399 418 437 456 475\n",
      " 20 |  20  40  60  80 100 120 140 160 180 200 220 240 260 280 300 320 340 360 380 400 420 440 460 480 500\n",
      " 21 |  21  42  63  84 105 126 147 168 189 210 231 252 273 294 315 336 357 378 399 420 441 462 483 504 525\n",
      " 22 |  22  44  66  88 110 132 154 176 198 220 242 264 286 308 330 352 374 396 418 440 462 484 506 528 550\n",
      " 23 |  23  46  69  92 115 138 161 184 207 230 253 276 299 322 345 368 391 414 437 460 483 506 529 552 575\n",
      " 24 |  24  48  72  96 120 144 168 192 216 240 264 288 312 336 360 384 408 432 456 480 504 528 552 576 600\n",
      " 25 |  25  50  75 100 125 150 175 200 225 250 275 300 325 350 375 400 425 450 475 500 525 550 575 600 625\n"
     ]
    }
   ],
   "source": [
    "# Print multiplication table\n",
    "def print_multiplication_table(n):\n",
    "    \n",
    "    # fines the maximum length of a product for formatting\n",
    "    spc = len(str(n*n))\n",
    "    \n",
    "    # Create the labels \n",
    "    axes_label = \" \".join([sfill(str(i), spc) for i in range(1, n+1)])\n",
    "    divider = \"\".join([\"-\" for i in range(len(axes_label))])\n",
    "    \n",
    "    # Creates the products \n",
    "    multi_table = [[y*x for x in range(1, n+1)] for y in range(1, n+1)]\n",
    "    multi = sfill(\"*\", spc)\n",
    "    \n",
    "    # Formats the multiplication tables. \n",
    "    print(f\"{multi} | {axes_label}\")\n",
    "    print(f\"------{divider}\")\n",
    "    for i, line in enumerate(multi_table, 1):\n",
    "        format_line = \" \".join([sfill(str(p), spc) for p in line])\n",
    "        print(f\"{sfill(str(i), spc)} | {format_line}\")\n",
    "        \n",
    "# Creates leading white space to handle different number length formatting\n",
    "def sfill(string, length, fillwith=None):\n",
    "    filler = \" \"\n",
    "    if fillwith:\n",
    "        filler = fillwith\n",
    "    if len(str(string)) < length:\n",
    "        difference = length - int(len(str(string)))\n",
    "        fill = filler*difference\n",
    "        a = f\"{fill}{string}\"\n",
    "        return a\n",
    "    else:\n",
    "        return string\n",
    "        \n",
    "\n",
    "        \n",
    "print_multiplication_table(25)"
   ]
  },
  {
   "cell_type": "markdown",
   "metadata": {},
   "source": [
    "**Exercise 5.2 (optional):** If you did the previous exercise with a `while` loop, then do it again with a `for` loop. If you did it with a `for` loop, then do it again with a `while` loop. If you did not use a loop at all, you should be ashamed of yourself."
   ]
  },
  {
   "cell_type": "code",
   "execution_count": 56,
   "metadata": {},
   "outputs": [
    {
     "name": "stdout",
     "output_type": "stream",
     "text": [
      "  * |   1   2   3   4   5   6   7   8   9  10  11  12  13  14  15  16  17  18  19  20 \n",
      "--------------------------------------------------------------------------------------\n",
      "  1 |   1   2   3   4   5   6   7   8   9  10  11  12  13  14  15  16  17  18  19  20 \n",
      "  2 |   2   4   6   8  10  12  14  16  18  20  22  24  26  28  30  32  34  36  38  40 \n",
      "  3 |   3   6   9  12  15  18  21  24  27  30  33  36  39  42  45  48  51  54  57  60 \n",
      "  4 |   4   8  12  16  20  24  28  32  36  40  44  48  52  56  60  64  68  72  76  80 \n",
      "  5 |   5  10  15  20  25  30  35  40  45  50  55  60  65  70  75  80  85  90  95 100 \n",
      "  6 |   6  12  18  24  30  36  42  48  54  60  66  72  78  84  90  96 102 108 114 120 \n",
      "  7 |   7  14  21  28  35  42  49  56  63  70  77  84  91  98 105 112 119 126 133 140 \n",
      "  8 |   8  16  24  32  40  48  56  64  72  80  88  96 104 112 120 128 136 144 152 160 \n",
      "  9 |   9  18  27  36  45  54  63  72  81  90  99 108 117 126 135 144 153 162 171 180 \n",
      " 10 |  10  20  30  40  50  60  70  80  90 100 110 120 130 140 150 160 170 180 190 200 \n",
      " 11 |  11  22  33  44  55  66  77  88  99 110 121 132 143 154 165 176 187 198 209 220 \n",
      " 12 |  12  24  36  48  60  72  84  96 108 120 132 144 156 168 180 192 204 216 228 240 \n",
      " 13 |  13  26  39  52  65  78  91 104 117 130 143 156 169 182 195 208 221 234 247 260 \n",
      " 14 |  14  28  42  56  70  84  98 112 126 140 154 168 182 196 210 224 238 252 266 280 \n",
      " 15 |  15  30  45  60  75  90 105 120 135 150 165 180 195 210 225 240 255 270 285 300 \n",
      " 16 |  16  32  48  64  80  96 112 128 144 160 176 192 208 224 240 256 272 288 304 320 \n",
      " 17 |  17  34  51  68  85 102 119 136 153 170 187 204 221 238 255 272 289 306 323 340 \n",
      " 18 |  18  36  54  72  90 108 126 144 162 180 198 216 234 252 270 288 306 324 342 360 \n",
      " 19 |  19  38  57  76  95 114 133 152 171 190 209 228 247 266 285 304 323 342 361 380 \n",
      " 20 |  20  40  60  80 100 120 140 160 180 200 220 240 260 280 300 320 340 360 380 400 \n",
      "None\n"
     ]
    }
   ],
   "source": [
    "# Print multiplication table\n",
    "def print_multiplication_table(n):\n",
    "    # Generate a list of all the products\n",
    "    products = generate_products(n)\n",
    "    \n",
    "    # Used to generate each axes label values\n",
    "    tick = 1\n",
    "    \n",
    "    #Calculate how much white space to add on infront of numbers \n",
    "    spc = int(len(str(n*n)))\n",
    "    \n",
    "    # Starting point for the x-axis labels\n",
    "    xlabel = sfill(\"*\", spc) + \" | \" \n",
    "    \n",
    "    # holds each line of the print statement which are generated with the following loops\n",
    "    to_print = []\n",
    "    \n",
    "    # Generate the print statements for each product\n",
    "    while len(products) > 0:\n",
    "        current = products.pop(0)\n",
    "        print_string = sfill(str(ylabel), spc) + \" | \"\n",
    "        while len(current) > 0:\n",
    "            print_string += sfill(str(current.pop(0)), spc) + \" \"\n",
    "        xlabel += sfill(str(tick), spc) + \" \"\n",
    "        to_print.append(print_string)\n",
    "        tick += 1\n",
    "    \n",
    "    \n",
    "    # Do the final print\n",
    "    print(xlabel)\n",
    "    print(\"-\"*len(xlabel))\n",
    "    while to_print:\n",
    "        print(to_print.pop(0))\n",
    "        \n",
    "        \n",
    "# Creates a list containing lists of each numbers products\n",
    "def generate_products(n):\n",
    "    current = 1\n",
    "    all_products = []\n",
    "    while current <= n:\n",
    "        factor = 1\n",
    "        current_products = []\n",
    "        while factor <= n:\n",
    "            current_products.append(factor*current)\n",
    "            factor += 1\n",
    "        all_products.append(current_products)\n",
    "        current += 1\n",
    "        \n",
    "    \n",
    "    return all_products\n",
    "    \n",
    "            \n",
    "        \n",
    "    \n",
    "print(print_multiplication_table(20))"
   ]
  },
  {
   "cell_type": "markdown",
   "metadata": {},
   "source": [
    "**Exercise 6.5 (optional):** Typical autocorrect functions are the following: \n",
    "1. if a word starts with two capitals, followed by a lower-case letter, the second capital is made lower case; \n",
    "2. if a sentence contains a word that is immediately followed by the same word, the second occurrence is removed; \n",
    "3. if a sentence starts with a lower-case letter, that letter is turned into a capital; \n",
    "4. if a word consists entirely of capitals, except for the first letter which is lower case, then the case of the letters in the word is reversed; and \n",
    "5. if the sentence contains the name of a day (in English) which does not start with a capital, the first letter is turned into a capital. \n",
    "\n",
    "Write a program that takes a sentence and makes these auto-corrections."
   ]
  },
  {
   "cell_type": "code",
   "execution_count": 26,
   "metadata": {},
   "outputs": [
    {
     "name": "stdout",
     "output_type": "stream",
     "text": [
      "As it turned out our chance meeting with Reverend Arthur Belling was to change our whole way of life, and every Sunday we'd hurry along to St Loony up the Cream Bun and Jam.\n"
     ]
    }
   ],
   "source": [
    "# Autocorrect.\n",
    "sentence = \"as it turned out our chance meeting with REverend aRTHUR BElling was \\\n",
    "was to change our whole way of life, and every sunday we'd hurry along to St lOONY up the Cream BUn and Jam.\"\n",
    "\n",
    "\n",
    "def spell_check(text):\n",
    "    correct_multi_case = check_multi_uppsercase(text)\n",
    "    correct_duplicates = check_duplicates(correct_multi_case)\n",
    "    correct_start_upper = check_start_uppercase(correct_duplicates)\n",
    "    correct_reverse_case = check_reverse_case(correct_start_upper)\n",
    "    correct_day_case = check_day_case(correct_reverse_case)\n",
    "    return correct_day_case\n",
    "\n",
    "\n",
    "def check_multi_uppsercase(words):\n",
    "    corrected = []\n",
    "    for word in words.split(\" \"):\n",
    "        if len(word)>2:\n",
    "            if word[0].isupper() and word[1].isupper() and word[2].islower():\n",
    "                corrected.append(word.capitalize())\n",
    "            else:\n",
    "                corrected.append(word)\n",
    "        else:\n",
    "            corrected.append(word)\n",
    "\n",
    "    return \" \".join(corrected)\n",
    "                \n",
    "def check_duplicates(words):\n",
    "    corrected = []\n",
    "    split_sentence = words.split(\" \")\n",
    "    for i in range(len(split_sentence)-1):\n",
    "        if split_sentence[i] != split_sentence[i+1]:\n",
    "            corrected.append(split_sentence[i])\n",
    "    corrected.append(split_sentence[-1])   \n",
    "\n",
    "    return \" \".join(corrected)\n",
    "\n",
    "def check_start_uppercase(words):\n",
    "    corrected =[]\n",
    "    sentence_end = True\n",
    "    for letter in words:\n",
    "        if letter.islower() and sentence_end and letter.isalnum():\n",
    "            corrected.append(letter.upper())\n",
    "            sentence_end = False\n",
    "        elif letter ==\".\":\n",
    "            sentence_end = True\n",
    "            corrected.append(letter)\n",
    "        else:\n",
    "            corrected.append(letter)\n",
    "    return \"\".join(corrected)\n",
    "\n",
    "def check_reverse_case(words):\n",
    "    corrected = []\n",
    "    for word in words.split(\" \"):\n",
    "        if word[0].islower() and word[1:].isupper():\n",
    "            corrected.append(word.capitalize())\n",
    "        else:\n",
    "            corrected.append(word)\n",
    "    return \" \".join(corrected)\n",
    "\n",
    "def check_day_case(words):\n",
    "    corrected = []\n",
    "    week_days = [\"Monday\",\"Tuesday\",\"Wednesday\",\"Thursday\",\"Friday\",\"Saturday\",\"Sunday\"]\n",
    "    for word in words.split(\" \"):\n",
    "        if word.capitalize() in week_days:\n",
    "            corrected.append(word.capitalize())\n",
    "        else:\n",
    "            corrected.append(word)\n",
    "    return \" \".join(corrected)\n",
    "\n",
    "print(spell_check(sentence))\n",
    "    \n"
   ]
  },
  {
   "cell_type": "markdown",
   "metadata": {},
   "source": [
    "### Exercise 11.3 (Optional)\n",
    "In this directory you find a file `blakepoems.txt`. Write a program that processes the contents of this file, line by line. It creates an output file in the current working directory called `blkpms.txt`, which has the same contents as `blakepoems.txt`, except that all the vowels are removed (case-insensitively). At the end, display how many characters you read, and how many characters you wrote. If you want to check the contents of `blkpms.txt`, you can either open it in a text editor, or display the first 10 lines or so at the end of your program."
   ]
  },
  {
   "cell_type": "code",
   "execution_count": 37,
   "metadata": {},
   "outputs": [
    {
     "name": "stdout",
     "output_type": "stream",
     "text": [
      "With vowels the file size is: 37870\n",
      "\n",
      "Without vowels the file size is:24636\n",
      "\n",
      "[Pms by Wllm Blk 1789]\n",
      "\n",
      "\n",
      "\n",
      "Y cn d ths\n",
      "\n",
      "\n",
      "\n",
      "\n",
      "\n",
      "SNGS F NNCNC ND F XPRNC\n",
      "\n",
      "nd TH BK f THL\n",
      "\n",
      "\n",
      "\n",
      "\n",
      "\n",
      " SNGS F NNCNC\n",
      "\n"
     ]
    }
   ],
   "source": [
    "## Your Code Here\n",
    "from os.path import getsize\n",
    "\n",
    "rfile = open('text-files/blakepoems.txt', 'r')\n",
    "wfile = open('text-files/blkpms.txt', 'w')\n",
    "buffer = rfile.readlines()\n",
    "for line in buffer:\n",
    "    write_line = \"\"\n",
    "    for char in line:\n",
    "        if char.lower() not in \"ioaue\":\n",
    "            write_line += char\n",
    "    wfile.write(write_line)\n",
    "    \n",
    "print(f\"With vowels the file size is: {getsize('text-files/blakepoems.txt')}\\n\")\n",
    "print(f\"Without vowels the file size is: {getsize('text-files/blkpms.txt')}\\n\")\n",
    "rfile.close()\n",
    "wfile.close()\n",
    "\n",
    "# proof print\n",
    "with open('text-files/blkpms.txt', 'r') as fp:\n",
    "    buffer = fp.readlines()\n",
    "    for i in range(10):\n",
    "        print(buffer[i])\n",
    "\n",
    "      \n",
    "    "
   ]
  },
  {
   "cell_type": "code",
   "execution_count": null,
   "metadata": {},
   "outputs": [],
   "source": []
  }
 ],
 "metadata": {
  "kernelspec": {
   "display_name": "Python 3",
   "language": "python",
   "name": "python3"
  },
  "language_info": {
   "codemirror_mode": {
    "name": "ipython",
    "version": 3
   },
   "file_extension": ".py",
   "mimetype": "text/x-python",
   "name": "python",
   "nbconvert_exporter": "python",
   "pygments_lexer": "ipython3",
   "version": "3.8.5"
  }
 },
 "nbformat": 4,
 "nbformat_minor": 2
}
