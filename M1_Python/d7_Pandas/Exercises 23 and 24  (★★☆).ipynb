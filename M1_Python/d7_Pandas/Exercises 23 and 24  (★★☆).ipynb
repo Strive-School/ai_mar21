{
 "cells": [
  {
   "cell_type": "code",
   "execution_count": 4,
   "id": "comic-license",
   "metadata": {},
   "outputs": [],
   "source": [
    "import pandas as pd\n",
    "import numpy as np"
   ]
  },
  {
   "cell_type": "markdown",
   "id": "after-lithuania",
   "metadata": {},
   "source": [
    "**23.** Given a DataFrame of numeric values, say\n",
    "```python\n",
    "df = pd.DataFrame(np.random.random(size=(5, 3))) # a 5x3 frame of float values\n",
    "```\n",
    "\n",
    "how do you subtract the row mean from each element in the row?"
   ]
  },
  {
   "cell_type": "code",
   "execution_count": 5,
   "id": "supported-bicycle",
   "metadata": {},
   "outputs": [
    {
     "name": "stdout",
     "output_type": "stream",
     "text": [
      "          0         1         2\n",
      "0  0.858329  0.893398  0.327307\n",
      "1  0.462080  0.478248  0.968180\n",
      "2  0.648919  0.310019  0.497462\n",
      "3  0.607541  0.706396  0.044184\n",
      "4  0.430442  0.817286  0.467880\n"
     ]
    },
    {
     "data": {
      "text/html": [
       "<div>\n",
       "<style scoped>\n",
       "    .dataframe tbody tr th:only-of-type {\n",
       "        vertical-align: middle;\n",
       "    }\n",
       "\n",
       "    .dataframe tbody tr th {\n",
       "        vertical-align: top;\n",
       "    }\n",
       "\n",
       "    .dataframe thead th {\n",
       "        text-align: right;\n",
       "    }\n",
       "</style>\n",
       "<table border=\"1\" class=\"dataframe\">\n",
       "  <thead>\n",
       "    <tr style=\"text-align: right;\">\n",
       "      <th></th>\n",
       "      <th>0</th>\n",
       "      <th>1</th>\n",
       "      <th>2</th>\n",
       "    </tr>\n",
       "  </thead>\n",
       "  <tbody>\n",
       "    <tr>\n",
       "      <th>0</th>\n",
       "      <td>0.165318</td>\n",
       "      <td>0.200386</td>\n",
       "      <td>-0.365704</td>\n",
       "    </tr>\n",
       "    <tr>\n",
       "      <th>1</th>\n",
       "      <td>-0.174089</td>\n",
       "      <td>-0.157921</td>\n",
       "      <td>0.332011</td>\n",
       "    </tr>\n",
       "    <tr>\n",
       "      <th>2</th>\n",
       "      <td>0.163452</td>\n",
       "      <td>-0.175448</td>\n",
       "      <td>0.011996</td>\n",
       "    </tr>\n",
       "    <tr>\n",
       "      <th>3</th>\n",
       "      <td>0.154834</td>\n",
       "      <td>0.253689</td>\n",
       "      <td>-0.408523</td>\n",
       "    </tr>\n",
       "    <tr>\n",
       "      <th>4</th>\n",
       "      <td>-0.141427</td>\n",
       "      <td>0.245416</td>\n",
       "      <td>-0.103989</td>\n",
       "    </tr>\n",
       "  </tbody>\n",
       "</table>\n",
       "</div>"
      ],
      "text/plain": [
       "          0         1         2\n",
       "0  0.165318  0.200386 -0.365704\n",
       "1 -0.174089 -0.157921  0.332011\n",
       "2  0.163452 -0.175448  0.011996\n",
       "3  0.154834  0.253689 -0.408523\n",
       "4 -0.141427  0.245416 -0.103989"
      ]
     },
     "execution_count": 5,
     "metadata": {},
     "output_type": "execute_result"
    }
   ],
   "source": [
    "df = pd.DataFrame(np.random.random(size=(5, 3)))\n",
    "print(df)\n",
    "\n",
    "df1= df.sub(df.mean(axis=1), axis=0)\n",
    "df1\n"
   ]
  },
  {
   "cell_type": "markdown",
   "id": "severe-count",
   "metadata": {},
   "source": [
    "**24.** Suppose you have DataFrame with 10 columns of real numbers, for example:\n",
    "\n",
    "```python\n",
    "df = pd.DataFrame(np.random.random(size=(5, 10)), columns=list('abcdefghij'))\n",
    "```\n",
    "Which column of numbers has the smallest sum? (Find that column's label.)"
   ]
  },
  {
   "cell_type": "code",
   "execution_count": 6,
   "id": "czech-superior",
   "metadata": {},
   "outputs": [
    {
     "name": "stdout",
     "output_type": "stream",
     "text": [
      "          a         b         c         d         e         f         g  \\\n",
      "0  0.928603  0.962910  0.464950  0.052157  0.187160  0.407127  0.722020   \n",
      "1  0.398298  0.731469  0.752951  0.603448  0.805699  0.204696  0.469781   \n",
      "2  0.363486  0.858949  0.048104  0.137411  0.652730  0.898631  0.213219   \n",
      "3  0.221161  0.386612  0.157095  0.029269  0.834105  0.774272  0.539323   \n",
      "4  0.812408  0.396855  0.433134  0.473354  0.396421  0.156694  0.963975   \n",
      "\n",
      "          h         i         j  \n",
      "0  0.560002  0.828195  0.579658  \n",
      "1  0.135259  0.824431  0.314417  \n",
      "2  0.651162  0.892683  0.375636  \n",
      "3  0.910487  0.001940  0.173223  \n",
      "4  0.100794  0.216835  0.036555  \n",
      "the column of number has the smallest sum is:  d\n"
     ]
    }
   ],
   "source": [
    "df = pd.DataFrame(np.random.random(size=(5, 10)), columns=list('abcdefghij'))\n",
    "print(df)\n",
    "s = df.sum().idxmin()\n",
    "print('the column of number has the smallest sum is: ',s)"
   ]
  },
  {
   "cell_type": "code",
   "execution_count": null,
   "id": "worthy-dominican",
   "metadata": {},
   "outputs": [],
   "source": []
  }
 ],
 "metadata": {
  "kernelspec": {
   "display_name": "Python 3",
   "language": "python",
   "name": "python3"
  },
  "language_info": {
   "codemirror_mode": {
    "name": "ipython",
    "version": 3
   },
   "file_extension": ".py",
   "mimetype": "text/x-python",
   "name": "python",
   "nbconvert_exporter": "python",
   "pygments_lexer": "ipython3",
   "version": "3.8.8"
  }
 },
 "nbformat": 4,
 "nbformat_minor": 5
}
