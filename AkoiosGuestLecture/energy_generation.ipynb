{
 "cells": [
  {
   "cell_type": "markdown",
   "metadata": {},
   "source": [
    "```yaml\n",
    "titan: v1\n",
    "service:\n",
    "  image: scipy\n",
    "  machine:\n",
    "    cpu: 2\n",
    "    memory: 512MB\n",
    "```"
   ]
  },
  {
   "cell_type": "code",
   "execution_count": null,
   "metadata": {},
   "outputs": [],
   "source": [
    "import pandas as pd\n",
    "from sklearn.linear_model import LinearRegression\n",
    "import json"
   ]
  },
  {
   "cell_type": "code",
   "execution_count": 5,
   "metadata": {
    "colab": {},
    "colab_type": "code",
    "id": "L7PfjAHHE79d"
   },
   "outputs": [],
   "source": [
    "# Reading the dataset from a Gitlab repo\n",
    "url = \"https://storage.googleapis.com/tutorial-datasets/weather_data_GER_2016.csv\"\n",
    "weather = pd.read_csv(url)"
   ]
  },
  {
   "cell_type": "code",
   "execution_count": 6,
   "metadata": {
    "colab": {
     "base_uri": "https://localhost:8080/",
     "height": 204
    },
    "colab_type": "code",
    "executionInfo": {
     "elapsed": 1231,
     "status": "ok",
     "timestamp": 1580749809465,
     "user": {
      "displayName": "Javier Fuentes Ibáñez",
      "photoUrl": "https://lh3.googleusercontent.com/a-/AAuE7mBoMcBzbjtRUR1TJGkAccQaDoQ_RHn6n04zVoLA=s64",
      "userId": "07330169876145884685"
     },
     "user_tz": -60
    },
    "id": "JeMkGy18FQVc",
    "outputId": "9d99da02-5722-48f3-e9e2-c827c319e507"
   },
   "outputs": [
    {
     "data": {
      "text/html": [
       "<div>\n",
       "<style scoped>\n",
       "    .dataframe tbody tr th:only-of-type {\n",
       "        vertical-align: middle;\n",
       "    }\n",
       "\n",
       "    .dataframe tbody tr th {\n",
       "        vertical-align: top;\n",
       "    }\n",
       "\n",
       "    .dataframe thead th {\n",
       "        text-align: right;\n",
       "    }\n",
       "</style>\n",
       "<table border=\"1\" class=\"dataframe\">\n",
       "  <thead>\n",
       "    <tr style=\"text-align: right;\">\n",
       "      <th></th>\n",
       "      <th>timestamp</th>\n",
       "      <th>cumulated hours</th>\n",
       "      <th>lat</th>\n",
       "      <th>lon</th>\n",
       "      <th>v1</th>\n",
       "      <th>v2</th>\n",
       "      <th>v_50m</th>\n",
       "      <th>h1</th>\n",
       "      <th>h2</th>\n",
       "      <th>z0</th>\n",
       "      <th>SWTDN</th>\n",
       "      <th>SWGDN</th>\n",
       "      <th>T</th>\n",
       "      <th>rho</th>\n",
       "      <th>p</th>\n",
       "    </tr>\n",
       "  </thead>\n",
       "  <tbody>\n",
       "    <tr>\n",
       "      <th>0</th>\n",
       "      <td>2016-01-01T00:00:00Z</td>\n",
       "      <td>0</td>\n",
       "      <td>47.5</td>\n",
       "      <td>5.625</td>\n",
       "      <td>0.81</td>\n",
       "      <td>1.88</td>\n",
       "      <td>3.36</td>\n",
       "      <td>2</td>\n",
       "      <td>10</td>\n",
       "      <td>0.052526</td>\n",
       "      <td>0.0</td>\n",
       "      <td>0.0</td>\n",
       "      <td>277.350159</td>\n",
       "      <td>1.236413</td>\n",
       "      <td>99282.710938</td>\n",
       "    </tr>\n",
       "    <tr>\n",
       "      <th>1</th>\n",
       "      <td>2016-01-01T01:00:00Z</td>\n",
       "      <td>1</td>\n",
       "      <td>47.5</td>\n",
       "      <td>5.625</td>\n",
       "      <td>0.77</td>\n",
       "      <td>1.61</td>\n",
       "      <td>2.63</td>\n",
       "      <td>2</td>\n",
       "      <td>10</td>\n",
       "      <td>0.052510</td>\n",
       "      <td>0.0</td>\n",
       "      <td>0.0</td>\n",
       "      <td>277.025665</td>\n",
       "      <td>1.239390</td>\n",
       "      <td>99300.164062</td>\n",
       "    </tr>\n",
       "    <tr>\n",
       "      <th>2</th>\n",
       "      <td>2016-01-01T02:00:00Z</td>\n",
       "      <td>2</td>\n",
       "      <td>47.5</td>\n",
       "      <td>5.625</td>\n",
       "      <td>0.66</td>\n",
       "      <td>1.22</td>\n",
       "      <td>1.89</td>\n",
       "      <td>2</td>\n",
       "      <td>10</td>\n",
       "      <td>0.052495</td>\n",
       "      <td>0.0</td>\n",
       "      <td>0.0</td>\n",
       "      <td>277.223755</td>\n",
       "      <td>1.243861</td>\n",
       "      <td>99310.992188</td>\n",
       "    </tr>\n",
       "    <tr>\n",
       "      <th>3</th>\n",
       "      <td>2016-01-01T03:00:00Z</td>\n",
       "      <td>3</td>\n",
       "      <td>47.5</td>\n",
       "      <td>5.625</td>\n",
       "      <td>0.96</td>\n",
       "      <td>1.35</td>\n",
       "      <td>1.62</td>\n",
       "      <td>2</td>\n",
       "      <td>10</td>\n",
       "      <td>0.052480</td>\n",
       "      <td>0.0</td>\n",
       "      <td>0.0</td>\n",
       "      <td>277.133240</td>\n",
       "      <td>1.247390</td>\n",
       "      <td>99314.773438</td>\n",
       "    </tr>\n",
       "    <tr>\n",
       "      <th>4</th>\n",
       "      <td>2016-01-01T04:00:00Z</td>\n",
       "      <td>4</td>\n",
       "      <td>47.5</td>\n",
       "      <td>5.625</td>\n",
       "      <td>1.14</td>\n",
       "      <td>1.56</td>\n",
       "      <td>1.83</td>\n",
       "      <td>2</td>\n",
       "      <td>10</td>\n",
       "      <td>0.052480</td>\n",
       "      <td>0.0</td>\n",
       "      <td>0.0</td>\n",
       "      <td>276.867767</td>\n",
       "      <td>1.248869</td>\n",
       "      <td>99324.796875</td>\n",
       "    </tr>\n",
       "  </tbody>\n",
       "</table>\n",
       "</div>"
      ],
      "text/plain": [
       "              timestamp  cumulated hours   lat    lon    v1    v2  v_50m  h1  \\\n",
       "0  2016-01-01T00:00:00Z                0  47.5  5.625  0.81  1.88   3.36   2   \n",
       "1  2016-01-01T01:00:00Z                1  47.5  5.625  0.77  1.61   2.63   2   \n",
       "2  2016-01-01T02:00:00Z                2  47.5  5.625  0.66  1.22   1.89   2   \n",
       "3  2016-01-01T03:00:00Z                3  47.5  5.625  0.96  1.35   1.62   2   \n",
       "4  2016-01-01T04:00:00Z                4  47.5  5.625  1.14  1.56   1.83   2   \n",
       "\n",
       "   h2        z0  SWTDN  SWGDN           T       rho             p  \n",
       "0  10  0.052526    0.0    0.0  277.350159  1.236413  99282.710938  \n",
       "1  10  0.052510    0.0    0.0  277.025665  1.239390  99300.164062  \n",
       "2  10  0.052495    0.0    0.0  277.223755  1.243861  99310.992188  \n",
       "3  10  0.052480    0.0    0.0  277.133240  1.247390  99314.773438  \n",
       "4  10  0.052480    0.0    0.0  276.867767  1.248869  99324.796875  "
      ]
     },
     "execution_count": 6,
     "metadata": {},
     "output_type": "execute_result"
    }
   ],
   "source": [
    "weather.head()"
   ]
  },
  {
   "cell_type": "markdown",
   "metadata": {
    "colab_type": "text",
    "id": "W8YWeKMwFmzs"
   },
   "source": [
    "Next, we read the weather data for Germany in 2016 by reading the full csv file.\n",
    "\n",
    "The data in the file contains the following:\n",
    "\n",
    "* wind\n",
    "  * v1: velocity [m/s] @ height h1 (2 meters above displacement height)\n",
    "  * v2: velocity [m/s] @ height h2 (10 meters above displacement height)\n",
    "  * v_50m: velocity [m/s] @ 50 meters above ground\n",
    "  * h1: height above ground [m] (h1 = displacement height +2m)\n",
    "  * h2: height above ground [m] (h2 = displacement height +10m)\n",
    "  * z0: roughness length [m]\n",
    "* solar parameters:\n",
    "  * SWTDN: total top-of-the-atmosphere horizontal radiation [W/m²]\n",
    "  * SWGDN: total ground horizontal radiation [W/m²]\n",
    "* temperature data\n",
    "  * T: Temperature [K] @ 2 meters above displacement height (see h1)\n",
    "* air data\n",
    "  * Rho: air density [kg/m³] @ surface\n",
    "  *p: air pressure [Pa] @ surface"
   ]
  },
  {
   "cell_type": "code",
   "execution_count": 7,
   "metadata": {
    "colab": {},
    "colab_type": "code",
    "id": "9_J-x-igF6Aw"
   },
   "outputs": [],
   "source": [
    "# Reading the dataset from a Gitlab repo\n",
    "url = \"https://storage.googleapis.com/tutorial-datasets/time_series_60min_singleindex_filtered.csv\"\n",
    "production = pd.read_csv(url)\n"
   ]
  },
  {
   "cell_type": "code",
   "execution_count": 8,
   "metadata": {
    "colab": {
     "base_uri": "https://localhost:8080/",
     "height": 204
    },
    "colab_type": "code",
    "executionInfo": {
     "elapsed": 2274,
     "status": "ok",
     "timestamp": 1580749817480,
     "user": {
      "displayName": "Javier Fuentes Ibáñez",
      "photoUrl": "https://lh3.googleusercontent.com/a-/AAuE7mBoMcBzbjtRUR1TJGkAccQaDoQ_RHn6n04zVoLA=s64",
      "userId": "07330169876145884685"
     },
     "user_tz": -60
    },
    "id": "68iV2_LFG_7u",
    "outputId": "ab0831ae-2bf0-410d-b551-8ea9868dde40"
   },
   "outputs": [
    {
     "data": {
      "text/html": [
       "<div>\n",
       "<style scoped>\n",
       "    .dataframe tbody tr th:only-of-type {\n",
       "        vertical-align: middle;\n",
       "    }\n",
       "\n",
       "    .dataframe tbody tr th {\n",
       "        vertical-align: top;\n",
       "    }\n",
       "\n",
       "    .dataframe thead th {\n",
       "        text-align: right;\n",
       "    }\n",
       "</style>\n",
       "<table border=\"1\" class=\"dataframe\">\n",
       "  <thead>\n",
       "    <tr style=\"text-align: right;\">\n",
       "      <th></th>\n",
       "      <th>utc_timestamp</th>\n",
       "      <th>cet_cest_timestamp</th>\n",
       "      <th>DE_wind_generation_actual</th>\n",
       "    </tr>\n",
       "  </thead>\n",
       "  <tbody>\n",
       "    <tr>\n",
       "      <th>0</th>\n",
       "      <td>2015-12-31T23:00:00Z</td>\n",
       "      <td>2016-01-01T00:00:00+0100</td>\n",
       "      <td>8638</td>\n",
       "    </tr>\n",
       "    <tr>\n",
       "      <th>1</th>\n",
       "      <td>2016-01-01T00:00:00Z</td>\n",
       "      <td>2016-01-01T01:00:00+0100</td>\n",
       "      <td>8579</td>\n",
       "    </tr>\n",
       "    <tr>\n",
       "      <th>2</th>\n",
       "      <td>2016-01-01T01:00:00Z</td>\n",
       "      <td>2016-01-01T02:00:00+0100</td>\n",
       "      <td>8542</td>\n",
       "    </tr>\n",
       "    <tr>\n",
       "      <th>3</th>\n",
       "      <td>2016-01-01T02:00:00Z</td>\n",
       "      <td>2016-01-01T03:00:00+0100</td>\n",
       "      <td>8443</td>\n",
       "    </tr>\n",
       "    <tr>\n",
       "      <th>4</th>\n",
       "      <td>2016-01-01T03:00:00Z</td>\n",
       "      <td>2016-01-01T04:00:00+0100</td>\n",
       "      <td>8295</td>\n",
       "    </tr>\n",
       "  </tbody>\n",
       "</table>\n",
       "</div>"
      ],
      "text/plain": [
       "          utc_timestamp        cet_cest_timestamp  DE_wind_generation_actual\n",
       "0  2015-12-31T23:00:00Z  2016-01-01T00:00:00+0100                       8638\n",
       "1  2016-01-01T00:00:00Z  2016-01-01T01:00:00+0100                       8579\n",
       "2  2016-01-01T01:00:00Z  2016-01-01T02:00:00+0100                       8542\n",
       "3  2016-01-01T02:00:00Z  2016-01-01T03:00:00+0100                       8443\n",
       "4  2016-01-01T03:00:00Z  2016-01-01T04:00:00+0100                       8295"
      ]
     },
     "execution_count": 8,
     "metadata": {},
     "output_type": "execute_result"
    }
   ],
   "source": [
    "production.head()\n"
   ]
  },
  {
   "cell_type": "code",
   "execution_count": 9,
   "metadata": {
    "colab": {},
    "colab_type": "code",
    "id": "Ze2TvJKqHEMK"
   },
   "outputs": [],
   "source": [
    "# Merge datasets\n",
    "weather_by_day = weather.groupby(weather.index).mean()\n",
    "combined = pd.merge(production, weather_by_day, how='left', left_index=True, right_index=True)\n",
    "\n"
   ]
  },
  {
   "cell_type": "code",
   "execution_count": 10,
   "metadata": {
    "colab": {
     "base_uri": "https://localhost:8080/",
     "height": 204
    },
    "colab_type": "code",
    "executionInfo": {
     "elapsed": 2525,
     "status": "ok",
     "timestamp": 1580749825369,
     "user": {
      "displayName": "Javier Fuentes Ibáñez",
      "photoUrl": "https://lh3.googleusercontent.com/a-/AAuE7mBoMcBzbjtRUR1TJGkAccQaDoQ_RHn6n04zVoLA=s64",
      "userId": "07330169876145884685"
     },
     "user_tz": -60
    },
    "id": "yRDcXPNWIDzV",
    "outputId": "5a155a68-0b1e-4210-a6c9-d4812b405ecf"
   },
   "outputs": [
    {
     "data": {
      "text/html": [
       "<div>\n",
       "<style scoped>\n",
       "    .dataframe tbody tr th:only-of-type {\n",
       "        vertical-align: middle;\n",
       "    }\n",
       "\n",
       "    .dataframe tbody tr th {\n",
       "        vertical-align: top;\n",
       "    }\n",
       "\n",
       "    .dataframe thead th {\n",
       "        text-align: right;\n",
       "    }\n",
       "</style>\n",
       "<table border=\"1\" class=\"dataframe\">\n",
       "  <thead>\n",
       "    <tr style=\"text-align: right;\">\n",
       "      <th></th>\n",
       "      <th>utc_timestamp</th>\n",
       "      <th>cet_cest_timestamp</th>\n",
       "      <th>DE_wind_generation_actual</th>\n",
       "      <th>cumulated hours</th>\n",
       "      <th>lat</th>\n",
       "      <th>lon</th>\n",
       "      <th>v1</th>\n",
       "      <th>v2</th>\n",
       "      <th>v_50m</th>\n",
       "      <th>h1</th>\n",
       "      <th>h2</th>\n",
       "      <th>z0</th>\n",
       "      <th>SWTDN</th>\n",
       "      <th>SWGDN</th>\n",
       "      <th>T</th>\n",
       "      <th>rho</th>\n",
       "      <th>p</th>\n",
       "    </tr>\n",
       "  </thead>\n",
       "  <tbody>\n",
       "    <tr>\n",
       "      <th>0</th>\n",
       "      <td>2015-12-31T23:00:00Z</td>\n",
       "      <td>2016-01-01T00:00:00+0100</td>\n",
       "      <td>8638</td>\n",
       "      <td>0</td>\n",
       "      <td>47.5</td>\n",
       "      <td>5.625</td>\n",
       "      <td>0.81</td>\n",
       "      <td>1.88</td>\n",
       "      <td>3.36</td>\n",
       "      <td>2</td>\n",
       "      <td>10</td>\n",
       "      <td>0.052526</td>\n",
       "      <td>0.0</td>\n",
       "      <td>0.0</td>\n",
       "      <td>277.350159</td>\n",
       "      <td>1.236413</td>\n",
       "      <td>99282.710938</td>\n",
       "    </tr>\n",
       "    <tr>\n",
       "      <th>1</th>\n",
       "      <td>2016-01-01T00:00:00Z</td>\n",
       "      <td>2016-01-01T01:00:00+0100</td>\n",
       "      <td>8579</td>\n",
       "      <td>1</td>\n",
       "      <td>47.5</td>\n",
       "      <td>5.625</td>\n",
       "      <td>0.77</td>\n",
       "      <td>1.61</td>\n",
       "      <td>2.63</td>\n",
       "      <td>2</td>\n",
       "      <td>10</td>\n",
       "      <td>0.052510</td>\n",
       "      <td>0.0</td>\n",
       "      <td>0.0</td>\n",
       "      <td>277.025665</td>\n",
       "      <td>1.239390</td>\n",
       "      <td>99300.164062</td>\n",
       "    </tr>\n",
       "    <tr>\n",
       "      <th>2</th>\n",
       "      <td>2016-01-01T01:00:00Z</td>\n",
       "      <td>2016-01-01T02:00:00+0100</td>\n",
       "      <td>8542</td>\n",
       "      <td>2</td>\n",
       "      <td>47.5</td>\n",
       "      <td>5.625</td>\n",
       "      <td>0.66</td>\n",
       "      <td>1.22</td>\n",
       "      <td>1.89</td>\n",
       "      <td>2</td>\n",
       "      <td>10</td>\n",
       "      <td>0.052495</td>\n",
       "      <td>0.0</td>\n",
       "      <td>0.0</td>\n",
       "      <td>277.223755</td>\n",
       "      <td>1.243861</td>\n",
       "      <td>99310.992188</td>\n",
       "    </tr>\n",
       "    <tr>\n",
       "      <th>3</th>\n",
       "      <td>2016-01-01T02:00:00Z</td>\n",
       "      <td>2016-01-01T03:00:00+0100</td>\n",
       "      <td>8443</td>\n",
       "      <td>3</td>\n",
       "      <td>47.5</td>\n",
       "      <td>5.625</td>\n",
       "      <td>0.96</td>\n",
       "      <td>1.35</td>\n",
       "      <td>1.62</td>\n",
       "      <td>2</td>\n",
       "      <td>10</td>\n",
       "      <td>0.052480</td>\n",
       "      <td>0.0</td>\n",
       "      <td>0.0</td>\n",
       "      <td>277.133240</td>\n",
       "      <td>1.247390</td>\n",
       "      <td>99314.773438</td>\n",
       "    </tr>\n",
       "    <tr>\n",
       "      <th>4</th>\n",
       "      <td>2016-01-01T03:00:00Z</td>\n",
       "      <td>2016-01-01T04:00:00+0100</td>\n",
       "      <td>8295</td>\n",
       "      <td>4</td>\n",
       "      <td>47.5</td>\n",
       "      <td>5.625</td>\n",
       "      <td>1.14</td>\n",
       "      <td>1.56</td>\n",
       "      <td>1.83</td>\n",
       "      <td>2</td>\n",
       "      <td>10</td>\n",
       "      <td>0.052480</td>\n",
       "      <td>0.0</td>\n",
       "      <td>0.0</td>\n",
       "      <td>276.867767</td>\n",
       "      <td>1.248869</td>\n",
       "      <td>99324.796875</td>\n",
       "    </tr>\n",
       "  </tbody>\n",
       "</table>\n",
       "</div>"
      ],
      "text/plain": [
       "          utc_timestamp        cet_cest_timestamp  DE_wind_generation_actual  \\\n",
       "0  2015-12-31T23:00:00Z  2016-01-01T00:00:00+0100                       8638   \n",
       "1  2016-01-01T00:00:00Z  2016-01-01T01:00:00+0100                       8579   \n",
       "2  2016-01-01T01:00:00Z  2016-01-01T02:00:00+0100                       8542   \n",
       "3  2016-01-01T02:00:00Z  2016-01-01T03:00:00+0100                       8443   \n",
       "4  2016-01-01T03:00:00Z  2016-01-01T04:00:00+0100                       8295   \n",
       "\n",
       "   cumulated hours   lat    lon    v1    v2  v_50m  h1  h2        z0  SWTDN  \\\n",
       "0                0  47.5  5.625  0.81  1.88   3.36   2  10  0.052526    0.0   \n",
       "1                1  47.5  5.625  0.77  1.61   2.63   2  10  0.052510    0.0   \n",
       "2                2  47.5  5.625  0.66  1.22   1.89   2  10  0.052495    0.0   \n",
       "3                3  47.5  5.625  0.96  1.35   1.62   2  10  0.052480    0.0   \n",
       "4                4  47.5  5.625  1.14  1.56   1.83   2  10  0.052480    0.0   \n",
       "\n",
       "   SWGDN           T       rho             p  \n",
       "0    0.0  277.350159  1.236413  99282.710938  \n",
       "1    0.0  277.025665  1.239390  99300.164062  \n",
       "2    0.0  277.223755  1.243861  99310.992188  \n",
       "3    0.0  277.133240  1.247390  99314.773438  \n",
       "4    0.0  276.867767  1.248869  99324.796875  "
      ]
     },
     "execution_count": 10,
     "metadata": {},
     "output_type": "execute_result"
    }
   ],
   "source": [
    "combined.head()"
   ]
  },
  {
   "cell_type": "code",
   "execution_count": 17,
   "metadata": {
    "colab": {},
    "colab_type": "code",
    "id": "FxbWKlzpIOD_"
   },
   "outputs": [],
   "source": [
    "# Apply linear regression\n",
    "lr = LinearRegression()\n",
    "X_wind = combined[['v1', 'v2', 'v_50m', 'z0']]\n",
    "#X_wind = combined[['v1', 'v2', 'v_50m']]\n",
    "#X_wind = combined[['v1', 'v2']]\n",
    "y_wind = combined['DE_wind_generation_actual']\n",
    "\n",
    "model = lr.fit(X_wind, y_wind)"
   ]
  },
  {
   "cell_type": "code",
   "execution_count": 18,
   "metadata": {
    "colab": {
     "base_uri": "https://localhost:8080/",
     "height": 51
    },
    "colab_type": "code",
    "executionInfo": {
     "elapsed": 1393,
     "status": "ok",
     "timestamp": 1580749831844,
     "user": {
      "displayName": "Javier Fuentes Ibáñez",
      "photoUrl": "https://lh3.googleusercontent.com/a-/AAuE7mBoMcBzbjtRUR1TJGkAccQaDoQ_RHn6n04zVoLA=s64",
      "userId": "07330169876145884685"
     },
     "user_tz": -60
    },
    "id": "UXKoH0k3Idcv",
    "outputId": "d9ce4b96-c38e-4ad7-d66f-7f699f7d7199"
   },
   "outputs": [
    {
     "name": "stdout",
     "output_type": "stream",
     "text": [
      "alpha = 7572.20178646834\n",
      "betas = [-3430.30457276  2906.42801897  -183.70361435   142.53220298]\n"
     ]
    }
   ],
   "source": [
    "# Now we can see the coefficients of our model\n",
    "print(f'alpha = {model.intercept_}')\n",
    "print(f'betas = {model.coef_}')"
   ]
  },
  {
   "cell_type": "code",
   "execution_count": 19,
   "metadata": {
    "colab": {},
    "colab_type": "code",
    "id": "FKyv6rTgiJfQ"
   },
   "outputs": [
    {
     "name": "stdout",
     "output_type": "stream",
     "text": [
      "alpha = 7572.20178646834\n"
     ]
    }
   ],
   "source": [
    "# GET /alphas\n",
    "print(f'alpha = {model.intercept_}')"
   ]
  },
  {
   "cell_type": "code",
   "execution_count": 20,
   "metadata": {
    "colab": {
     "base_uri": "https://localhost:8080/",
     "height": 34
    },
    "colab_type": "code",
    "executionInfo": {
     "elapsed": 1379,
     "status": "ok",
     "timestamp": 1580749838643,
     "user": {
      "displayName": "Javier Fuentes Ibáñez",
      "photoUrl": "https://lh3.googleusercontent.com/a-/AAuE7mBoMcBzbjtRUR1TJGkAccQaDoQ_RHn6n04zVoLA=s64",
      "userId": "07330169876145884685"
     },
     "user_tz": -60
    },
    "id": "k525hndTiJfR",
    "outputId": "f8538ef3-f9a9-4bfa-d389-52f00ddec01e"
   },
   "outputs": [
    {
     "name": "stdout",
     "output_type": "stream",
     "text": [
      "betas = [-3430.30457276  2906.42801897  -183.70361435   142.53220298]\n"
     ]
    }
   ],
   "source": [
    "# GET /betas\n",
    "print(f'betas = {model.coef_}')"
   ]
  },
  {
   "cell_type": "code",
   "execution_count": 21,
   "metadata": {
    "colab": {},
    "colab_type": "code",
    "id": "K3GJcgNJCQPJ"
   },
   "outputs": [],
   "source": [
    "# Mock request object for local API testing\n",
    "headers = {\n",
    "'content-type': 'application/json'\n",
    "}\n",
    "body = json.dumps({\n",
    "  \"data\": [[1.44, 1.77, 2, 0.054]]\n",
    "})\n",
    "REQUEST = json.dumps({ 'headers': headers, 'body': body })"
   ]
  },
  {
   "cell_type": "code",
   "execution_count": null,
   "metadata": {
    "ExecuteTime": {
     "end_time": "2021-07-13T19:29:06.473549Z",
     "start_time": "2021-07-13T19:29:06.394461Z"
    },
    "colab": {
     "base_uri": "https://localhost:8080/",
     "height": 34
    },
    "colab_type": "code",
    "executionInfo": {
     "elapsed": 1058,
     "status": "ok",
     "timestamp": 1580751290135,
     "user": {
      "displayName": "Javier Fuentes Ibáñez",
      "photoUrl": "https://lh3.googleusercontent.com/a-/AAuE7mBoMcBzbjtRUR1TJGkAccQaDoQ_RHn6n04zVoLA=s64",
      "userId": "07330169876145884685"
     },
     "user_tz": -60
    },
    "id": "Pm5bvzlxIfbi",
    "outputId": "81514239-d671-46f9-a2f0-29f0e5159e38"
   },
   "outputs": [],
   "source": [
    "# POST /prediction\n",
    "body = json.loads(REQUEST)['body']\n",
    "# predict the cluster for new samples. Function to be exposed through Titan\n",
    "input_params = json.loads(body)['data']\n",
    "#input_params = [[0.44, 1.77, 2, 0.054]]\n",
    "print(model.predict(input_params))"
   ]
  },
  {
   "cell_type": "code",
   "execution_count": null,
   "metadata": {},
   "outputs": [],
   "source": []
  }
 ],
 "metadata": {
  "colab": {
   "collapsed_sections": [],
   "name": "energy_generation_kpmg.ipynb",
   "provenance": []
  },
  "kernelspec": {
   "display_name": "Python 3",
   "language": "python",
   "name": "python3"
  },
  "language_info": {
   "codemirror_mode": {
    "name": "ipython",
    "version": 3
   },
   "file_extension": ".py",
   "mimetype": "text/x-python",
   "name": "python",
   "nbconvert_exporter": "python",
   "pygments_lexer": "ipython3",
   "version": "3.9.5"
  },
  "varInspector": {
   "cols": {
    "lenName": 16,
    "lenType": 16,
    "lenVar": 40
   },
   "kernels_config": {
    "python": {
     "delete_cmd_postfix": "",
     "delete_cmd_prefix": "del ",
     "library": "var_list.py",
     "varRefreshCmd": "print(var_dic_list())"
    },
    "r": {
     "delete_cmd_postfix": ") ",
     "delete_cmd_prefix": "rm(",
     "library": "var_list.r",
     "varRefreshCmd": "cat(var_dic_list()) "
    }
   },
   "types_to_exclude": [
    "module",
    "function",
    "builtin_function_or_method",
    "instance",
    "_Feature"
   ],
   "window_display": false
  }
 },
 "nbformat": 4,
 "nbformat_minor": 1
}
